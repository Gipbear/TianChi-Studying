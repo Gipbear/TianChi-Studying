{
 "cells": [
  {
   "cell_type": "code",
   "execution_count": 1,
   "id": "9cd0c5aa-a62c-4838-a666-dc93e5acc201",
   "metadata": {},
   "outputs": [],
   "source": [
    "import numpy as np"
   ]
  },
  {
   "cell_type": "code",
   "execution_count": 2,
   "id": "0653146c-38a1-4d26-982e-2697264f5f15",
   "metadata": {},
   "outputs": [
    {
     "name": "stdout",
     "output_type": "stream",
     "text": [
      "False\n",
      "True\n"
     ]
    }
   ],
   "source": [
    "print(np.nan == np.nan)  # False\n",
    "print(np.nan != np.nan)  # True"
   ]
  },
  {
   "cell_type": "code",
   "execution_count": 6,
   "id": "ad08154d-2eb7-496d-b8f5-f6ba600a7733",
   "metadata": {},
   "outputs": [
    {
     "name": "stdout",
     "output_type": "stream",
     "text": [
      "[False False False  True False]\n",
      "1\n"
     ]
    }
   ],
   "source": [
    "x = np.array([1, 1, 8, np.nan, 10])\n",
    "y = np.isnan(x)\n",
    "print(y)\n",
    "# [False False False  True False]\n",
    "z = np.count_nonzero(y)\n",
    "print(z)  # 1"
   ]
  },
  {
   "cell_type": "code",
   "execution_count": 12,
   "id": "eb78055d-b9b2-4d56-bbd0-98766dc0d52c",
   "metadata": {},
   "outputs": [
    {
     "data": {
      "text/plain": [
       "inf"
      ]
     },
     "execution_count": 12,
     "metadata": {},
     "output_type": "execute_result"
    }
   ],
   "source": [
    "np.inf\n",
    "np.Inf\n",
    "np.Infinity\n",
    "np.infty\n",
    "np.PINF"
   ]
  },
  {
   "cell_type": "code",
   "execution_count": 13,
   "id": "f63a2b4c-7303-475c-8a0b-1c1fb16ba932",
   "metadata": {},
   "outputs": [
    {
     "data": {
      "text/plain": [
       "3.141592653589793"
      ]
     },
     "execution_count": 13,
     "metadata": {},
     "output_type": "execute_result"
    }
   ],
   "source": [
    "np.pi"
   ]
  },
  {
   "cell_type": "code",
   "execution_count": 14,
   "id": "01e3846e-14db-4846-af25-5519d25e9c75",
   "metadata": {},
   "outputs": [
    {
     "data": {
      "text/plain": [
       "2.718281828459045"
      ]
     },
     "execution_count": 14,
     "metadata": {},
     "output_type": "execute_result"
    }
   ],
   "source": [
    "np.e"
   ]
  },
  {
   "cell_type": "code",
   "execution_count": null,
   "id": "167f7ddd-7ff9-42a5-982d-57cb88f7c9bc",
   "metadata": {},
   "outputs": [],
   "source": []
  },
  {
   "cell_type": "code",
   "execution_count": null,
   "id": "b364f373-ac30-426b-846f-0e992649404d",
   "metadata": {},
   "outputs": [],
   "source": []
  },
  {
   "cell_type": "code",
   "execution_count": 29,
   "id": "a730d0ab-c1f9-4914-ae3d-00e3caa551fb",
   "metadata": {},
   "outputs": [
    {
     "data": {
      "text/plain": [
       "dtype('float32')"
      ]
     },
     "execution_count": 29,
     "metadata": {},
     "output_type": "execute_result"
    }
   ],
   "source": [
    "a = np.array([1,2,3],dtype=np.float32)\n",
    "a.dtype"
   ]
  },
  {
   "cell_type": "code",
   "execution_count": null,
   "id": "d95974f5-9db8-4658-8b92-672f19b12c39",
   "metadata": {},
   "outputs": [],
   "source": []
  },
  {
   "cell_type": "code",
   "execution_count": null,
   "id": "51c7361f-7cf8-40a7-ad34-14f628c61819",
   "metadata": {},
   "outputs": [],
   "source": []
  },
  {
   "cell_type": "code",
   "execution_count": 32,
   "id": "768fddd5-90cb-46c3-8509-6f288fba7ec4",
   "metadata": {},
   "outputs": [
    {
     "name": "stdout",
     "output_type": "stream",
     "text": [
      "2022-02 datetime64[M]\n",
      "2022-02-19 datetime64[D]\n",
      "2022-02-19T17 datetime64[h]\n",
      "2022-02-19T17:16 datetime64[m]\n",
      "2022-02-19T17:16:02 datetime64[s]\n"
     ]
    }
   ],
   "source": [
    "a = np.datetime64('2022-02')\n",
    "print(a, a.dtype)  # 2022-02 datetime64[M]\n",
    "\n",
    "a = np.datetime64('2022-02-19')\n",
    "print(a, a.dtype)  # 2022-02-19 datetime64[D]\n",
    "\n",
    "a = np.datetime64('2022-02-19 17')\n",
    "print(a, a.dtype)  # 2022-02-19T17 datetime64[h]\n",
    "\n",
    "a = np.datetime64('2022-02-19 17:16')\n",
    "print(a, a.dtype)  # 2022-02-19T17:16 datetime64[m]\n",
    "\n",
    "a = np.datetime64('2022-02-19 17:16:02')\n",
    "print(a, a.dtype)  # 2022-02-19T17:16:02 datetime64[s]"
   ]
  },
  {
   "cell_type": "code",
   "execution_count": 33,
   "id": "70d1e78f-7314-4a81-9aa9-2fe194b38aa1",
   "metadata": {},
   "outputs": [
    {
     "name": "stdout",
     "output_type": "stream",
     "text": [
      "2022 datetime64[Y]\n"
     ]
    }
   ],
   "source": [
    "a = np.datetime64('2022-02', 'Y')\n",
    "print(a, a.dtype)  # 2022 datetime64[Y]"
   ]
  },
  {
   "cell_type": "code",
   "execution_count": 35,
   "id": "654c7d9e-42e4-46da-b676-7cbf73819449",
   "metadata": {},
   "outputs": [
    {
     "name": "stdout",
     "output_type": "stream",
     "text": [
      "['2022-02-01T00:00' '2022-02-19T00:00' '2020-02-19T17:16'] datetime64[m]\n"
     ]
    }
   ],
   "source": [
    "a = np.array(['2022-02', '2022-02-19', '2020-02-19 17:16'], dtype='datetime64')\n",
    "print(a, a.dtype)\n",
    "# ['2022-02-01T00:00' '2022-02-19T00:00' '2020-02-19T17:16'] datetime64[m]"
   ]
  },
  {
   "cell_type": "code",
   "execution_count": 42,
   "id": "e8d0bceb-4adb-4c44-9317-10039b60a635",
   "metadata": {},
   "outputs": [
    {
     "name": "stdout",
     "output_type": "stream",
     "text": [
      "['2022-02' '2022-03' '2022-04']\n",
      "['2022-01' '2022-02' '2022-03' '2022-04']\n"
     ]
    }
   ],
   "source": [
    "a = np.arange('2022-02', '2022-05', dtype=np.datetime64)\n",
    "print(a)  # ['2022-02' '2022-03' '2022-04']\n",
    "a = np.arange('2022', '2022-05', dtype=np.datetime64)\n",
    "print(a)  # ['2022-01' '2022-02' '2022-03' '2022-04']"
   ]
  },
  {
   "cell_type": "code",
   "execution_count": 60,
   "id": "16dd0806-7eb3-42e1-b91a-610ecb28253e",
   "metadata": {},
   "outputs": [
    {
     "name": "stdout",
     "output_type": "stream",
     "text": [
      "17 days timedelta64[D]\n",
      "16 hours timedelta64[h]\n",
      "2 days timedelta64[D]\n"
     ]
    }
   ],
   "source": [
    "a = np.datetime64('2022-02-19') - np.datetime64('2022-02-02')\n",
    "print(a, a.dtype)  # 17 days timedelta64[D]\n",
    "\n",
    "b = np.datetime64('2022-02-19') - np.datetime64('2022-02-18 08')\n",
    "print(b, b.dtype)  # 16 hours timedelta64[h]\n",
    "\n",
    "c = np.datetime64('2022-02-19') - np.datetime64('2022-02-17 23:00', 'D')\n",
    "print(c, c.dtype)  # 2 days timedelta64[D]"
   ]
  },
  {
   "cell_type": "code",
   "execution_count": 61,
   "id": "ab4e5ebd-2e75-48ce-8a56-53a3821ee3d1",
   "metadata": {},
   "outputs": [
    {
     "name": "stdout",
     "output_type": "stream",
     "text": [
      "2022-02-21 datetime64[D]\n",
      "2022-02-15T12:00 datetime64[m]\n"
     ]
    }
   ],
   "source": [
    "a = np.datetime64('2022-02') + np.timedelta64(20, 'D')\n",
    "print(a, a.dtype)  # 2022-02-21 datetime64[D]\n",
    "\n",
    "b = np.datetime64('2022-02-15 00:00') + np.timedelta64(12, 'h')\n",
    "print(b, b.dtype)  # 2022-02-15T12:00 datetime64[m]"
   ]
  },
  {
   "cell_type": "code",
   "execution_count": 71,
   "id": "4fb232c4-4a79-4c55-a3cb-f1e50b2f8115",
   "metadata": {},
   "outputs": [
    {
     "name": "stdout",
     "output_type": "stream",
     "text": [
      "2 years\n",
      "24 months\n"
     ]
    }
   ],
   "source": [
    "a = np.timedelta64(2, 'Y')\n",
    "print(a)  # 2 years\n",
    "b = np.timedelta64(a, 'M')\n",
    "print(b)  # 24 months"
   ]
  },
  {
   "cell_type": "code",
   "execution_count": 73,
   "id": "b01619ae-5e90-4abb-a194-ea1727a0f94d",
   "metadata": {},
   "outputs": [
    {
     "name": "stdout",
     "output_type": "stream",
     "text": [
      "2022-02-19T17:22:30 datetime64[s]\n",
      "2022-02-19 17:22:30 <class 'datetime.datetime'>\n"
     ]
    }
   ],
   "source": [
    "import datetime\n",
    "\n",
    "dt = datetime.datetime(year=2022, month=2, day=19, hour=17, minute=22, second=30)\n",
    "dt64 = np.datetime64(dt, 's')\n",
    "print(dt64, dt64.dtype)\n",
    "# 2022-02-19T17:22:30 datetime64[s]\n",
    "\n",
    "dt2 = dt64.astype(datetime.datetime)\n",
    "print(dt2, type(dt2))\n",
    "# 2022-02-19 17:22:30 <class 'datetime.datetime'>"
   ]
  },
  {
   "cell_type": "code",
   "execution_count": null,
   "id": "2a009654-1178-4b21-9271-a815d1655bed",
   "metadata": {},
   "outputs": [],
   "source": []
  },
  {
   "cell_type": "code",
   "execution_count": null,
   "id": "66072b11-ebf0-4663-9587-b24e690a7842",
   "metadata": {},
   "outputs": [],
   "source": []
  },
  {
   "cell_type": "code",
   "execution_count": 80,
   "id": "84e540f9-16c2-47d8-bb51-c6e1c400886e",
   "metadata": {},
   "outputs": [
    {
     "name": "stdout",
     "output_type": "stream",
     "text": [
      "2022-02-21\n"
     ]
    }
   ],
   "source": [
    "# 2022-02-18 是星期五\n",
    "a = np.busday_offset('2022-02-18', offsets=1)\n",
    "print(a)  # 2022-02-21"
   ]
  },
  {
   "cell_type": "code",
   "execution_count": 92,
   "id": "3bb96a92-f23a-459a-975a-273b52466b20",
   "metadata": {},
   "outputs": [
    {
     "name": "stdout",
     "output_type": "stream",
     "text": [
      "2022-02-21\n",
      "2022-02-18\n"
     ]
    }
   ],
   "source": [
    "# 2022-02-19 是星期六\n",
    "a = np.busday_offset('2022-02-19', offsets=0, roll='forward')\n",
    "print(a)  # 2022-02-22\n",
    "b = np.busday_offset('2022-02-19', offsets=0, roll='backward')\n",
    "print(b)  # 2022-02-21"
   ]
  },
  {
   "cell_type": "code",
   "execution_count": 95,
   "id": "49c0fb27-b0a2-4ec7-932c-f1babfd26723",
   "metadata": {},
   "outputs": [
    {
     "name": "stdout",
     "output_type": "stream",
     "text": [
      "True\n",
      "False\n"
     ]
    }
   ],
   "source": [
    "a = np.is_busday('2022-02-18')\n",
    "print(a)  # True\n",
    "b = np.is_busday('2022-02-19')\n",
    "print(b)  # False"
   ]
  },
  {
   "cell_type": "code",
   "execution_count": 103,
   "id": "51e9d347-0b3e-4195-be30-a65aa57ffb04",
   "metadata": {},
   "outputs": [
    {
     "name": "stdout",
     "output_type": "stream",
     "text": [
      "False\n",
      "True\n"
     ]
    }
   ],
   "source": [
    "# 2022-02-18 是星期五\n",
    "# 自定义设置工作日为 一 二 三 四 六\n",
    "a = np.is_busday('2022-02-18', weekmask=[1,1,1,1,0,1,0])\n",
    "b = np.is_busday('2022-02-19', weekmask=[1,1,1,1,0,1,0])\n",
    "print(a)  # False\n",
    "print(b)  # True"
   ]
  },
  {
   "cell_type": "code",
   "execution_count": 104,
   "id": "f7f1c149-c178-4e79-af6a-6c97870da0b2",
   "metadata": {},
   "outputs": [
    {
     "name": "stdout",
     "output_type": "stream",
     "text": [
      "20\n"
     ]
    }
   ],
   "source": [
    "a = np.arange('2022-02-01', '2022-03', dtype=np.datetime64)\n",
    "cnt = np.count_nonzero(np.is_busday(a))\n",
    "print(cnt)  # 20"
   ]
  },
  {
   "cell_type": "code",
   "execution_count": 107,
   "id": "806bbb0a-5d66-4d16-9c60-9391768ef9db",
   "metadata": {},
   "outputs": [
    {
     "name": "stdout",
     "output_type": "stream",
     "text": [
      "20\n"
     ]
    }
   ],
   "source": [
    "cnt = np.busday_count('2022-02', '2022-03')\n",
    "print(cnt)  # 20"
   ]
  },
  {
   "cell_type": "code",
   "execution_count": null,
   "id": "bb2870f0-7619-463a-8ba9-c28bc07bd8a2",
   "metadata": {},
   "outputs": [],
   "source": []
  }
 ],
 "metadata": {
  "kernelspec": {
   "display_name": "Python 3 (ipykernel)",
   "language": "python",
   "name": "python3"
  },
  "language_info": {
   "codemirror_mode": {
    "name": "ipython",
    "version": 3
   },
   "file_extension": ".py",
   "mimetype": "text/x-python",
   "name": "python",
   "nbconvert_exporter": "python",
   "pygments_lexer": "ipython3",
   "version": "3.9.7"
  }
 },
 "nbformat": 4,
 "nbformat_minor": 5
}

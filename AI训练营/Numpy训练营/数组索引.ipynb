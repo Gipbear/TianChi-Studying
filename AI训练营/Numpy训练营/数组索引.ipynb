{
 "cells": [
  {
   "cell_type": "code",
   "execution_count": 1,
   "id": "39b3b957-312c-46d3-bf4b-6dfd79ef1170",
   "metadata": {},
   "outputs": [],
   "source": [
    "import numpy as np"
   ]
  },
  {
   "cell_type": "code",
   "execution_count": 2,
   "id": "7ad80b92-298a-4719-bac8-7c7fad0637d6",
   "metadata": {},
   "outputs": [
    {
     "name": "stdout",
     "output_type": "stream",
     "text": [
      "[[1, 1, 1], [1, 1, 2], [1, 1, 1]] <class 'list'>\n",
      "[[1 1 1]\n",
      " [1 1 1]\n",
      " [1 1 1]] <class 'numpy.ndarray'>\n",
      "[[1 1 1]\n",
      " [1 1 1]\n",
      " [1 1 1]] <class 'numpy.ndarray'>\n"
     ]
    }
   ],
   "source": [
    "x = [[1, 1, 1], [1, 1, 1], [1, 1, 1]]\n",
    "y = np.array(x)\n",
    "z = np.asarray(x)\n",
    "x[1][2] = 2\n",
    "print(x,type(x))\n",
    "# [[1, 1, 1], [1, 1, 2], [1, 1, 1]] <class 'list'>\n",
    "\n",
    "print(y,type(y))\n",
    "# [[1 1 1]\n",
    "#  [1 1 1]\n",
    "#  [1 1 1]] <class 'numpy.ndarray'>\n",
    "\n",
    "print(z,type(z))\n",
    "# [[1 1 1]\n",
    "#  [1 1 1]\n",
    "#  [1 1 1]] <class 'numpy.ndarray'>"
   ]
  },
  {
   "cell_type": "code",
   "execution_count": 3,
   "id": "748fa6d2-b05b-47c9-a7b7-6dfdcb832ed0",
   "metadata": {},
   "outputs": [
    {
     "name": "stdout",
     "output_type": "stream",
     "text": [
      "[[1 1 1]\n",
      " [1 1 2]\n",
      " [1 1 1]] <class 'numpy.ndarray'> int32\n",
      "[[1 1 1]\n",
      " [1 1 1]\n",
      " [1 1 1]] <class 'numpy.ndarray'> int32\n",
      "[[1 1 1]\n",
      " [1 1 2]\n",
      " [1 1 1]] <class 'numpy.ndarray'> int32\n",
      "[[1 1 1]\n",
      " [1 1 2]\n",
      " [1 1 1]] <class 'numpy.ndarray'> int32\n"
     ]
    },
    {
     "name": "stderr",
     "output_type": "stream",
     "text": [
      "C:\\Users\\grizzly\\AppData\\Local\\Temp/ipykernel_29556/3130555252.py:4: DeprecationWarning: `np.int` is a deprecated alias for the builtin `int`. To silence this warning, use `int` by itself. Doing this will not modify any behavior and is safe. When replacing `np.int`, you may wish to use e.g. `np.int64` or `np.int32` to specify the precision. If you wish to review your current use, check the release note link for additional information.\n",
      "Deprecated in NumPy 1.20; for more details and guidance: https://numpy.org/devdocs/release/1.20.0-notes.html#deprecations\n",
      "  w = np.asarray(x, dtype=np.int)\n"
     ]
    }
   ],
   "source": [
    "x = np.array([[1, 1, 1], [1, 1, 1], [1, 1, 1]])\n",
    "y = np.array(x)\n",
    "z = np.asarray(x)\n",
    "w = np.asarray(x, dtype=np.int)\n",
    "x[1][2] = 2\n",
    "print(x,type(x),x.dtype)\n",
    "# [[1 1 1]\n",
    "#  [1 1 2]\n",
    "#  [1 1 1]] <class 'numpy.ndarray'> int32\n",
    "\n",
    "print(y,type(y),y.dtype)\n",
    "# [[1 1 1]\n",
    "#  [1 1 1]\n",
    "#  [1 1 1]] <class 'numpy.ndarray'> int32\n",
    "\n",
    "print(z,type(z),z.dtype)\n",
    "# [[1 1 1]\n",
    "#  [1 1 2]\n",
    "#  [1 1 1]] <class 'numpy.ndarray'> int32\n",
    "\n",
    "print(w,type(w),w.dtype)\n",
    "# [[1 1 1]\n",
    "#  [1 1 2]\n",
    "#  [1 1 1]] <class 'numpy.ndarray'> int32"
   ]
  },
  {
   "cell_type": "code",
   "execution_count": 4,
   "id": "a2cc9822-958b-4074-b4a5-403e877de436",
   "metadata": {},
   "outputs": [
    {
     "name": "stdout",
     "output_type": "stream",
     "text": [
      "[[ 0  1  2  3]\n",
      " [10 11 12 13]\n",
      " [20 21 22 23]\n",
      " [30 31 32 33]\n",
      " [40 41 42 43]]\n",
      "[[ True False False]\n",
      " [False  True False]\n",
      " [False False  True]]\n",
      "[[0 1 2]\n",
      " [1 2 3]\n",
      " [2 3 4]]\n"
     ]
    }
   ],
   "source": [
    "def func(x, y):\n",
    "    return 10 * x + y\n",
    "\n",
    "x = np.fromfunction(func, (5, 4), dtype=int)\n",
    "print(x)\n",
    "# [[ 0  1  2  3]\n",
    "#  [10 11 12 13]\n",
    "#  [20 21 22 23]\n",
    "#  [30 31 32 33]\n",
    "#  [40 41 42 43]]\n",
    "\n",
    "x = np.fromfunction(lambda i, j: i == j, (3, 3), dtype=int)\n",
    "print(x)\n",
    "# [[ True False False]\n",
    "#  [False  True False]\n",
    "#  [False False  True]]\n",
    "\n",
    "x = np.fromfunction(lambda i, j: i + j, (3, 3), dtype=int)\n",
    "print(x)\n",
    "# [[0 1 2]\n",
    "#  [1 2 3]\n",
    "#  [2 3 4]]"
   ]
  },
  {
   "cell_type": "code",
   "execution_count": 5,
   "id": "e23a997d-bde2-402e-978b-b3b7cfd5cdc0",
   "metadata": {},
   "outputs": [
    {
     "name": "stdout",
     "output_type": "stream",
     "text": [
      "[[1. 0. 0. 0.]\n",
      " [0. 1. 0. 0.]\n",
      " [0. 0. 1. 0.]\n",
      " [0. 0. 0. 1.]]\n",
      "[[1. 0. 0.]\n",
      " [0. 1. 0.]]\n",
      "[[0 1 2]\n",
      " [3 4 5]\n",
      " [6 7 8]]\n",
      "[0 4 8]\n",
      "[1 5]\n",
      "[3 7]\n",
      "[[0 1 0 0 0]\n",
      " [0 0 3 0 0]\n",
      " [0 0 0 5 0]\n",
      " [0 0 0 0 7]\n",
      " [0 0 0 0 0]]\n"
     ]
    }
   ],
   "source": [
    "x = np.eye(4)\n",
    "print(x)\n",
    "# [[1. 0. 0. 0.]\n",
    "#  [0. 1. 0. 0.]\n",
    "#  [0. 0. 1. 0.]\n",
    "#  [0. 0. 0. 1.]]\n",
    "\n",
    "x = np.eye(2, 3)\n",
    "print(x)\n",
    "# [[1. 0. 0.]\n",
    "#  [0. 1. 0.]]\n",
    "\n",
    "x = np.arange(9).reshape((3, 3))\n",
    "print(x)\n",
    "# [[0 1 2]\n",
    "#  [3 4 5]\n",
    "#  [6 7 8]]\n",
    "print(np.diag(x))  # [0 4 8]\n",
    "print(np.diag(x, k=1))  # [1 5]\n",
    "print(np.diag(x, k=-1))  # [3 7]\n",
    "\n",
    "v = [1, 3, 5, 7]\n",
    "x = np.diag(v,k=1)\n",
    "print(x)\n",
    "# [[1 0 0 0]\n",
    "#  [0 3 0 0]\n",
    "#  [0 0 5 0]\n",
    "#  [0 0 0 7]]"
   ]
  },
  {
   "cell_type": "code",
   "execution_count": 6,
   "id": "f29e4163-799c-4ce8-9d53-629dee7026fa",
   "metadata": {},
   "outputs": [
    {
     "data": {
      "text/plain": [
       "array([[666, 666, 666],\n",
       "       [666, 666, 666]])"
      ]
     },
     "execution_count": 6,
     "metadata": {},
     "output_type": "execute_result"
    }
   ],
   "source": [
    "np.full(shape=(2,3), fill_value=666)\n",
    "# array([[666, 666, 666],\n",
    "#        [666, 666, 666]])"
   ]
  },
  {
   "cell_type": "code",
   "execution_count": 7,
   "id": "1dc72550-86b2-4c1c-b172-c0993d009a10",
   "metadata": {},
   "outputs": [
    {
     "data": {
      "text/plain": [
       "array([[0., 0., 0., 0.],\n",
       "       [0., 0., 0., 0.],\n",
       "       [0., 0., 0., 0.]])"
      ]
     },
     "execution_count": 7,
     "metadata": {},
     "output_type": "execute_result"
    }
   ],
   "source": [
    "np.zeros(shape=(3,4))"
   ]
  },
  {
   "cell_type": "code",
   "execution_count": null,
   "id": "7887fd32-416d-421c-bb9a-9bd5a7cc62fb",
   "metadata": {},
   "outputs": [],
   "source": []
  },
  {
   "cell_type": "code",
   "execution_count": null,
   "id": "5e36af7f-cbb2-42a0-a39a-f318e9324f81",
   "metadata": {},
   "outputs": [],
   "source": []
  },
  {
   "cell_type": "code",
   "execution_count": 8,
   "id": "dd2afa64-46d7-4391-9497-8f33fd199873",
   "metadata": {},
   "outputs": [
    {
     "name": "stdout",
     "output_type": "stream",
     "text": [
      "[[999, 2], [3, 4]]\n",
      "[[999, 2], [3, 4]]\n",
      "[[0 1]\n",
      " [2 3]]\n",
      "[[999   1]\n",
      " [  2   3]]\n"
     ]
    }
   ],
   "source": [
    "l1 = [[1,2],[3,4]]\n",
    "l2 = l1.copy()\n",
    "l2[0][0] = 999\n",
    "print(l1)\n",
    "# [[999, 2], [3, 4]]\n",
    "print(l2)\n",
    "# [[999, 2], [3, 4]]\n",
    "\n",
    "a1 = np.arange(4).reshape(2,2)\n",
    "a2 = a1.copy()\n",
    "a2[0][0] = 999\n",
    "print(a1)\n",
    "# [[0 1]\n",
    "#  [2 3]]\n",
    "print(a2)\n",
    "# [[999   1]\n",
    "#  [  2   3]]"
   ]
  },
  {
   "cell_type": "code",
   "execution_count": 20,
   "id": "e848f3eb-50bf-4480-a1be-a927f58c38a6",
   "metadata": {},
   "outputs": [
    {
     "name": "stdout",
     "output_type": "stream",
     "text": [
      "[[1 1 1 1]\n",
      " [1 0 0 1]\n",
      " [1 0 0 1]\n",
      " [1 1 1 1]]\n",
      "[[1 1 1 1]\n",
      " [1 0 0 1]\n",
      " [1 0 0 1]\n",
      " [1 1 1 1]]\n",
      "[[1 1 1 1]\n",
      " [1 1 1 1]\n",
      " [1 1 1 1]\n",
      " [1 1 1 1]]\n",
      "[[1 1 1 1]\n",
      " [1 0 0 1]\n",
      " [1 0 0 1]\n",
      " [1 1 1 1]]\n"
     ]
    }
   ],
   "source": [
    "x = np.ones((4,4),dtype='int32')\n",
    "y = x\n",
    "y[1:3, 1:3] = 0\n",
    "print(x)\n",
    "# [[1 1 1 1]\n",
    "#  [1 0 0 1]\n",
    "#  [1 0 0 1]\n",
    "#  [1 1 1 1]]\n",
    "print(y)\n",
    "# [[1 1 1 1]\n",
    "#  [1 0 0 1]\n",
    "#  [1 0 0 1]\n",
    "#  [1 1 1 1]]\n",
    "\n",
    "x = np.ones((4,4),dtype='int32')\n",
    "\n",
    "y = x.copy()\n",
    "y[1:3, 1:3] = 0\n",
    "print(x)\n",
    "# [[1 1 1 1]\n",
    "#  [1 1 1 1]\n",
    "#  [1 1 1 1]\n",
    "#  [1 1 1 1]]\n",
    "print(y)\n",
    "# [[1 1 1 1]\n",
    "#  [1 0 0 1]\n",
    "#  [1 0 0 1]\n",
    "#  [1 1 1 1]]"
   ]
  },
  {
   "cell_type": "code",
   "execution_count": 25,
   "id": "d087f1d4-6367-4a85-8e09-11c403a1360a",
   "metadata": {},
   "outputs": [
    {
     "name": "stdout",
     "output_type": "stream",
     "text": [
      "[0 1 2]\n",
      "4\n",
      "4\n"
     ]
    }
   ],
   "source": [
    "a = np.arange(9).reshape(3,3)\n",
    "print(a[0])  # [0 1 2]\n",
    "print(a[1][1])  # 4\n",
    "print(a[1, 1])  # 4"
   ]
  },
  {
   "cell_type": "code",
   "execution_count": 28,
   "id": "280c8dcd-8fa0-494c-b8b5-42ad9e61b93b",
   "metadata": {},
   "outputs": [
    {
     "name": "stdout",
     "output_type": "stream",
     "text": [
      "[1 2]\n",
      "[2 4]\n",
      "[3 4 5 6 7 8]\n",
      "[1 2 3 4 5 6]\n",
      "[1 2 3 4 5 6 7 8]\n",
      "[8 7 6 5 4 3 2 1]\n"
     ]
    }
   ],
   "source": [
    "x = np.arange(1, 9)\n",
    "print(x[0:2])  # [1 2]\n",
    "#用下标0~5,以2为步长选取数组\n",
    "print(x[1:5:2])  # [2 4]\n",
    "print(x[2:])  # [3 4 5 6 7 8]\n",
    "print(x[:-2])  # [1 2 3 4 5 6]\n",
    "print(x[:])  # [1 2 3 4 5 6 7 8]\n",
    "#利用负数下标翻转数组\n",
    "print(x[::-1])  # [8 7 6 5 4 3 2 1]"
   ]
  },
  {
   "cell_type": "code",
   "execution_count": 39,
   "id": "73a3080d-dbfa-452c-8bb6-bde7da276128",
   "metadata": {},
   "outputs": [
    {
     "name": "stdout",
     "output_type": "stream",
     "text": [
      "[[0 1 2]]\n",
      "[[0 1]\n",
      " [3 4]]\n",
      "[[0 1 2]\n",
      " [3 4 5]]\n",
      "[[0 1 2]\n",
      " [3 4 5]\n",
      " [6 7 8]]\n"
     ]
    }
   ],
   "source": [
    "x = np.arange(9).reshape(3,3)\n",
    "print(x[:1])\n",
    "# [[0 1 2]]\n",
    "\n",
    "print(x[0:2, 0:2])\n",
    "# [[0 1]\n",
    "#  [3 4]]\n",
    "print(x[0:2][0:2])\n",
    "# [[0 1 2]\n",
    "#  [3 4 5]]\n",
    "\n",
    "print(x[:, :])\n",
    "# [[0 1 2]\n",
    "#  [3 4 5]\n",
    "#  [6 7 8]]\n"
   ]
  },
  {
   "cell_type": "code",
   "execution_count": 49,
   "id": "accdd660-d63d-443b-b067-0daa28c714ed",
   "metadata": {},
   "outputs": [
    {
     "name": "stdout",
     "output_type": "stream",
     "text": [
      "[[ 1  2  3  4]\n",
      " [ 5  6  7  8]\n",
      " [ 9 10 11 12]]\n",
      "[[ 1  2  3  4]\n",
      " [ 9 10 11 12]]\n",
      "[[ 1  3]\n",
      " [ 5  7]\n",
      " [ 9 11]]\n"
     ]
    }
   ],
   "source": [
    "a = np.arange(1, 13).reshape(3,4)\n",
    "print(a)\n",
    "# [[ 1  2  3  4]\n",
    "#  [ 5  6  7  8]\n",
    "#  [ 9 10 11 12]]\n",
    "print(a[[0,2]])\n",
    "# [[ 1  2  3  4]\n",
    "#  [ 9 10 11 12]]\n",
    "print(a[:, [0, 2]])\n",
    "# [[ 1  3]\n",
    "#  [ 5  7]\n",
    "#  [ 9 11]]"
   ]
  },
  {
   "cell_type": "code",
   "execution_count": 58,
   "id": "d9da8b18-4d5a-498d-a695-f156b86251ab",
   "metadata": {},
   "outputs": [
    {
     "name": "stdout",
     "output_type": "stream",
     "text": [
      "[ 1 10]\n",
      "[[ 1  2  3  4]\n",
      " [ 9 10 11 12]]\n",
      "[[ 1  3]\n",
      " [ 5  7]\n",
      " [ 9 11]]\n"
     ]
    }
   ],
   "source": [
    "x = np.arange(1, 13).reshape(3,4)\n",
    "print(np.take(x, [0,9]))\n",
    "# [ 1 10]\n",
    "print(np.take(x, [0,2], axis=0))\n",
    "# [[ 1  2  3  4]\n",
    "#  [ 9 10 11 12]]\n",
    "print(np.take(x, [0,2], axis=1))\n",
    "# [[ 1  3]\n",
    "#  [ 5  7]\n",
    "#  [ 9 11]]"
   ]
  },
  {
   "cell_type": "code",
   "execution_count": 66,
   "id": "ebe9fe88-8652-48b5-a169-76a876fd3b2d",
   "metadata": {},
   "outputs": [
    {
     "name": "stdout",
     "output_type": "stream",
     "text": [
      "[ 1 77  3  4  5]\n",
      "[77  3]\n",
      "[1 2 3 4 5]\n",
      "[66  3]\n"
     ]
    }
   ],
   "source": [
    "x = np.arange(1, 6)\n",
    "y = x[1:3]\n",
    "y[0] = 77\n",
    "print(x)  # [ 1 77  3  4  5]\n",
    "print(y)  # [2 3]\n",
    "\n",
    "x = np.arange(1, 6)\n",
    "z = x[[1,2]]\n",
    "z[0] = 66\n",
    "print(x)  # [1 2 3 4 5]\n",
    "print(z)  # [66  3]"
   ]
  },
  {
   "cell_type": "code",
   "execution_count": 68,
   "id": "4384ada4-80d4-4a10-b553-d941769d4967",
   "metadata": {},
   "outputs": [
    {
     "name": "stdout",
     "output_type": "stream",
     "text": [
      "[False False False False False  True  True  True]\n",
      "[6 7 8]\n"
     ]
    }
   ],
   "source": [
    "x = np.arange(1, 9)\n",
    "y = x > 5\n",
    "print(y)\n",
    "# [False False False False False  True  True  True]\n",
    "print(x[x > 5])\n",
    "# [6 7 8]"
   ]
  },
  {
   "cell_type": "code",
   "execution_count": 74,
   "id": "142b5b34-7a08-49cf-97f2-478cd8783746",
   "metadata": {},
   "outputs": [
    {
     "name": "stdout",
     "output_type": "stream",
     "text": [
      "[1. 2. 3. 4. 5.]\n"
     ]
    }
   ],
   "source": [
    "x = np.array([np.nan, 1, 2, np.nan, 3, 4, 5])\n",
    "y = np.logical_not(np.isnan(x))\n",
    "print(x[y])\n",
    "# [1. 2. 3. 4. 5.]"
   ]
  },
  {
   "cell_type": "code",
   "execution_count": 76,
   "id": "55c038e0-e280-414a-8b5d-88f7472599db",
   "metadata": {},
   "outputs": [
    {
     "name": "stdout",
     "output_type": "stream",
     "text": [
      "[[False False False]\n",
      " [False False False]\n",
      " [ True  True  True]]\n",
      "[6 7 8]\n"
     ]
    }
   ],
   "source": [
    "x = np.arange(9).reshape(3,3)\n",
    "y = x > 5\n",
    "print(y)\n",
    "# [[False False False]\n",
    "#  [False False False]\n",
    "#  [ True  True  True]]\n",
    "print(x[x > 5])\n",
    "# [6 7 8]"
   ]
  },
  {
   "cell_type": "code",
   "execution_count": 77,
   "id": "c9eca51c-191c-4842-9376-f5770140ed20",
   "metadata": {},
   "outputs": [
    {
     "name": "stdout",
     "output_type": "stream",
     "text": [
      "50\n",
      "[ True  True  True  True  True  True  True  True  True  True  True  True\n",
      "  True  True  True  True  True  True  True  True  True  True  True  True\n",
      "  True False False False False False False False False False False False\n",
      " False False False False False False False False False False False False\n",
      " False False]\n"
     ]
    },
    {
     "data": {
      "image/png": "[encoded data removed]",
      "text/plain": [
       "<Figure size 432x288 with 1 Axes>"
      ]
     },
     "metadata": {
      "needs_background": "light"
     },
     "output_type": "display_data"
    }
   ],
   "source": [
    "import numpy as np\n",
    "\n",
    "import matplotlib.pyplot as plt\n",
    "\n",
    "x = np.linspace(0, 2 * np.pi, 50)\n",
    "y = np.sin(x)\n",
    "print(len(x))  # 50\n",
    "plt.plot(x, y)\n",
    "\n",
    "mask = y >= 0\n",
    "plt.plot(x[mask], y[mask], 'bo')\n",
    "\n",
    "mask = np.logical_and(y >= 0, x <= np.pi / 2)\n",
    "print(mask)\n",
    "'''\n",
    "[ True  True  True  True  True  True  True  True  True  True  True  True\n",
    "  True False False False False False False False False False False False\n",
    " False False False False False False False False False False False False\n",
    " False False False False False False False False False False False False\n",
    " False False]\n",
    "'''\n",
    "\n",
    "plt.plot(x[mask], y[mask], 'go')\n",
    "plt.show()"
   ]
  },
  {
   "cell_type": "code",
   "execution_count": 80,
   "id": "c7fc4beb-6a17-4c92-82b6-40b9c0846c0a",
   "metadata": {},
   "outputs": [
    {
     "name": "stdout",
     "output_type": "stream",
     "text": [
      "[105 110 115 120 125]\n",
      "[ 65  90 115 140 165]\n",
      "[21. 22. 23. 24. 25.]\n",
      "[13. 18. 23. 28. 33.]\n"
     ]
    }
   ],
   "source": [
    "x = np.array([[11, 12, 13, 14, 15],\n",
    "              [16, 17, 18, 19, 20],\n",
    "              [21, 22, 23, 24, 25],\n",
    "              [26, 27, 28, 29, 30],\n",
    "              [31, 32, 33, 34, 35]])\n",
    "\n",
    "y = np.apply_along_axis(np.sum, 0, x)\n",
    "print(y)  # [105 110 115 120 125]\n",
    "y = np.apply_along_axis(np.sum, 1, x)\n",
    "print(y)  # [ 65  90 115 140 165]\n",
    "\n",
    "def my_func(x):\n",
    "    return (x[0] + x[-1]) * 0.5\n",
    "\n",
    "\n",
    "y = np.apply_along_axis(my_func, 0, x)\n",
    "print(y)  # [21. 22. 23. 24. 25.]\n",
    "y = np.apply_along_axis(my_func, 1, x)\n",
    "print(y)  # [13. 18. 23. 28. 33.]"
   ]
  },
  {
   "cell_type": "code",
   "execution_count": null,
   "id": "898ede87-f26b-421a-8e86-881022c83d13",
   "metadata": {},
   "outputs": [],
   "source": []
  }
 ],
 "metadata": {
  "kernelspec": {
   "display_name": "Python 3 (ipykernel)",
   "language": "python",
   "name": "python3"
  },
  "language_info": {
   "codemirror_mode": {
    "name": "ipython",
    "version": 3
   },
   "file_extension": ".py",
   "mimetype": "text/x-python",
   "name": "python",
   "nbconvert_exporter": "python",
   "pygments_lexer": "ipython3",
   "version": "3.9.7"
  }
 },
 "nbformat": 4,
 "nbformat_minor": 5
}

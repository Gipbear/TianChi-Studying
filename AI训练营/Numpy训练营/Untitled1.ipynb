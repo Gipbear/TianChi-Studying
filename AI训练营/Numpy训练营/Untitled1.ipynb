{
 "cells": [
  {
   "cell_type": "code",
   "execution_count": 1,
   "id": "39b3b957-312c-46d3-bf4b-6dfd79ef1170",
   "metadata": {},
   "outputs": [],
   "source": [
    "a=[['3,B', 9.0, 9.0], ['1,B', 9.0, 9.0], ['2,A', 9.0, 9.0]]\n",
    "b=[['B,3', 9.0, 9.0], ['B,1', 9.0, 9.0], ['2,A', 9.0, 9.0]]\n",
    "#有没有办法，在不排序的情况下 让\n",
    "# if a[0][0]==b[0][0]呢？不需要排序哈，后面数据都是变化的。不知道与偶没有办法\n"
   ]
  },
  {
   "cell_type": "code",
   "execution_count": 6,
   "id": "7ad80b92-298a-4719-bac8-7c7fad0637d6",
   "metadata": {},
   "outputs": [
    {
     "data": {
      "text/plain": [
       "True"
      ]
     },
     "execution_count": 6,
     "metadata": {},
     "output_type": "execute_result"
    }
   ],
   "source": [
    "set(a[0][0].split(',')) == set(b[0][0].split(','))"
   ]
  },
  {
   "cell_type": "code",
   "execution_count": null,
   "id": "748fa6d2-b05b-47c9-a7b7-6dfdcb832ed0",
   "metadata": {},
   "outputs": [],
   "source": []
  }
 ],
 "metadata": {
  "kernelspec": {
   "display_name": "Python 3 (ipykernel)",
   "language": "python",
   "name": "python3"
  },
  "language_info": {
   "codemirror_mode": {
    "name": "ipython",
    "version": 3
   },
   "file_extension": ".py",
   "mimetype": "text/x-python",
   "name": "python",
   "nbconvert_exporter": "python",
   "pygments_lexer": "ipython3",
   "version": "3.9.7"
  }
 },
 "nbformat": 4,
 "nbformat_minor": 5
}
